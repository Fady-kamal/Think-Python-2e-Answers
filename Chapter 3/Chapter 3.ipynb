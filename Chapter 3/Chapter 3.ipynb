{
 "cells": [
  {
   "cell_type": "markdown",
   "metadata": {},
   "source": [
    "# Outline \n",
    "\n",
    "- [3.1](#1)\n",
    "- [3.2](#2)\n",
    "- [3.3](#3)\n",
    "\n",
    "\n",
    "# 3.1  <a anchor = \"anchor\" id = \"1\" />"
   ]
  },
  {
   "cell_type": "code",
   "execution_count": 4,
   "metadata": {},
   "outputs": [],
   "source": [
    "def right_justify(name):\n",
    "    \n",
    "    modified_name = ' ' * ( 70 - len(name)) + name\n",
    "    \n",
    "    print(modified_name)"
   ]
  },
  {
   "cell_type": "code",
   "execution_count": 5,
   "metadata": {},
   "outputs": [
    {
     "name": "stdout",
     "output_type": "stream",
     "text": [
      "                                                                  fady\n"
     ]
    }
   ],
   "source": [
    "#check the function \n",
    "\n",
    "right_justify(\"fady\")"
   ]
  },
  {
   "cell_type": "markdown",
   "metadata": {},
   "source": [
    "## 3.2  <a anchor = \"anchor\" id = \"2\" />"
   ]
  },
  {
   "cell_type": "code",
   "execution_count": 6,
   "metadata": {},
   "outputs": [
    {
     "name": "stdout",
     "output_type": "stream",
     "text": [
      "spam\n",
      "spam\n"
     ]
    }
   ],
   "source": [
    "def do_twice(f):\n",
    "    f()\n",
    "    f()\n",
    "    \n",
    "    \n",
    "    \n",
    "def print_spam():\n",
    "    print('spam')\n",
    "    \n",
    "    \n",
    "    \n",
    "do_twice(print_spam)"
   ]
  },
  {
   "cell_type": "code",
   "execution_count": 7,
   "metadata": {},
   "outputs": [],
   "source": [
    "def do_twice(f, arg):\n",
    "    f(arg)\n",
    "    f(arg)"
   ]
  },
  {
   "cell_type": "code",
   "execution_count": 8,
   "metadata": {},
   "outputs": [
    {
     "name": "stdout",
     "output_type": "stream",
     "text": [
      "Fady\n",
      "Fady\n"
     ]
    }
   ],
   "source": [
    "#Test\n",
    "\n",
    "do_twice(print, \"Fady\")"
   ]
  },
  {
   "cell_type": "code",
   "execution_count": 9,
   "metadata": {},
   "outputs": [],
   "source": [
    "def print_twice(word):\n",
    "    print(word)\n",
    "    print(word)"
   ]
  },
  {
   "cell_type": "code",
   "execution_count": 10,
   "metadata": {},
   "outputs": [
    {
     "name": "stdout",
     "output_type": "stream",
     "text": [
      "Fady\n",
      "Fady\n",
      "Fady\n",
      "Fady\n"
     ]
    }
   ],
   "source": [
    "do_twice(print_twice,\"Fady\")"
   ]
  },
  {
   "cell_type": "code",
   "execution_count": 11,
   "metadata": {},
   "outputs": [],
   "source": [
    "def do_four(f,arg):\n",
    "    \n",
    "    do_twice(f,arg)\n",
    "    do_twice(f,arg)"
   ]
  },
  {
   "cell_type": "code",
   "execution_count": 12,
   "metadata": {},
   "outputs": [
    {
     "name": "stdout",
     "output_type": "stream",
     "text": [
      "Fady\n",
      "Fady\n",
      "Fady\n",
      "Fady\n"
     ]
    }
   ],
   "source": [
    "do_four(print,\"Fady\")"
   ]
  },
  {
   "cell_type": "markdown",
   "metadata": {},
   "source": [
    "## 3.3 <a anchor = \"anchor\" id = \"3\" />\n",
    "\n",
    "1. Write a function that draws a grid like the following:\n",
    "\n",
    "                                    + - - - - + - - - - + \n",
    "                                    |         |         |\n",
    "                                    |         |         |\n",
    "                                    |         |         |\n",
    "                                    |         |         |\n",
    "                                    + - - - - + - - - - +\n",
    "                                    |         |         |\n",
    "                                    |         |         |\n",
    "                                    |         |         |\n",
    "                                    |         |         |\n",
    "                                    + - - - - + - - - - +\n",
    " \n",
    "__Hint:__ to print more than one value on a line, you can print a comma-separated sequence of values: `  print('+', '-')`\n",
    "    \n",
    "   -  By default, print advances to the next line, but you can override that behavior and put a space at the end, like this:\n",
    "     - print('+', end=' ')\n",
    "     - print('-')\n",
    "     - The output of these statements is '+ -'.\n",
    "     - A print statement with no argument ends the current line and goes to the next\n",
    "        line.\n",
    " "
   ]
  },
  {
   "cell_type": "code",
   "execution_count": 78,
   "metadata": {},
   "outputs": [],
   "source": [
    "def print_plus():\n",
    "    print(\"+\", end = ' ')\n",
    "\n",
    "def print_four(arg):\n",
    "    \n",
    "    print(arg, end = ' ')\n",
    "    print(arg, end = ' ')\n",
    "    print(arg, end = ' ')\n",
    "    print(arg, end = ' ')\n",
    "    \n",
    "    \n",
    "\n",
    "def print_three(arg):\n",
    "    print(arg, end = '')  #note: '' differes from ' '\n",
    "    print(arg, end = '')\n",
    "    print(arg, end = '')\n",
    "    print()\n",
    "    \n",
    "\n",
    "\n",
    "def print_all():\n",
    "    '''\n",
    "    Print complete line \n",
    "    '''\n",
    "    print_plus()\n",
    "    print_four(\"-\")\n",
    "    print_plus()\n",
    "    print_four(\"-\")\n",
    "    print_plus()\n",
    "    print()"
   ]
  },
  {
   "cell_type": "code",
   "execution_count": 79,
   "metadata": {},
   "outputs": [
    {
     "name": "stdout",
     "output_type": "stream",
     "text": [
      "+ - - - - + - - - - + \n",
      "|         |         |         \n",
      "|         |         |         \n",
      "|         |         |         \n",
      "|         |         |         \n",
      "+ - - - - + - - - - + \n",
      "|         |         |         \n",
      "|         |         |         \n",
      "|         |         |         \n",
      "|         |         |         \n",
      "+ - - - - + - - - - + \n"
     ]
    }
   ],
   "source": [
    "print_all()\n",
    "print_three(\"|\"+ ' ' * 9 ) \n",
    "print_three(\"|\"+ ' ' * 9 ) \n",
    "print_three(\"|\"+ ' ' * 9 ) \n",
    "print_three(\"|\"+ ' ' * 9 ) \n",
    "print_all()\n",
    "print_three(\"|\"+ ' ' * 9 ) \n",
    "print_three(\"|\"+ ' ' * 9 ) \n",
    "print_three(\"|\"+ ' ' * 9 ) \n",
    "print_three(\"|\"+ ' ' * 9 ) \n",
    "print_all()"
   ]
  },
  {
   "cell_type": "markdown",
   "metadata": {},
   "source": [
    "<br>\n",
    "\n",
    "\n",
    "\n",
    "2.Write a function that draws a similar grid with four rows and four columns."
   ]
  },
  {
   "cell_type": "code",
   "execution_count": 91,
   "metadata": {},
   "outputs": [],
   "source": [
    "def print_row():\n",
    "    print_plus()\n",
    "    print_four(\"-\")\n",
    "    print_plus()\n",
    "    print_four(\"-\")\n",
    "    print_plus()\n",
    "    print_four(\"-\")\n",
    "    print_plus()\n",
    "    print()\n",
    "    \n",
    "    \n",
    "    \n",
    "\n",
    "def print_col(arg):\n",
    "    print(arg, end = '')  #note: '' differes from ' '\n",
    "    print(arg, end = '')\n",
    "    print(arg, end = '')\n",
    "    print(arg, end = '')\n",
    "    print()"
   ]
  },
  {
   "cell_type": "code",
   "execution_count": 101,
   "metadata": {},
   "outputs": [
    {
     "name": "stdout",
     "output_type": "stream",
     "text": [
      "+ - - - - + - - - - + - - - - + \n",
      "|         |         |         |         \n",
      "|         |         |         |         \n",
      "|         |         |         |         \n",
      "|         |         |         |         \n",
      "+ - - - - + - - - - + - - - - + \n",
      "|         |         |         |         \n",
      "|         |         |         |         \n",
      "|         |         |         |         \n",
      "|         |         |         |         \n",
      "+ - - - - + - - - - + - - - - + \n",
      "|         |         |         |         \n",
      "|         |         |         |         \n",
      "|         |         |         |         \n",
      "+ - - - - + - - - - + - - - - + \n",
      "|         |         |         |         \n",
      "|         |         |         |         \n",
      "|         |         |         |         \n",
      "|         |         |         |         \n",
      "+ - - - - + - - - - + - - - - + \n"
     ]
    }
   ],
   "source": [
    "print_row()\n",
    "print_col(\"|\"+ ' ' * 9 )\n",
    "print_col(\"|\"+ ' ' * 9 )\n",
    "print_col(\"|\"+ ' ' * 9 )\n",
    "print_col(\"|\"+ ' ' * 9 )\n",
    "\n",
    "print_row()\n",
    "print_col(\"|\"+ ' ' * 9 )\n",
    "print_col(\"|\"+ ' ' * 9 )\n",
    "print_col(\"|\"+ ' ' * 9 )\n",
    "print_col(\"|\"+ ' ' * 9 )\n",
    "\n",
    "print_row()\n",
    "print_col(\"|\"+ ' ' * 9 )\n",
    "print_col(\"|\"+ ' ' * 9 )\n",
    "print_col(\"|\"+ ' ' * 9 )\n",
    "\n",
    "print_row()\n",
    "print_col(\"|\"+ ' ' * 9 )\n",
    "print_col(\"|\"+ ' ' * 9 )\n",
    "print_col(\"|\"+ ' ' * 9 )\n",
    "print_col(\"|\"+ ' ' * 9 )\n",
    "print_row()"
   ]
  },
  {
   "cell_type": "code",
   "execution_count": null,
   "metadata": {},
   "outputs": [],
   "source": []
  }
 ],
 "metadata": {
  "kernelspec": {
   "display_name": "Python 3",
   "language": "python",
   "name": "python3"
  },
  "language_info": {
   "codemirror_mode": {
    "name": "ipython",
    "version": 3
   },
   "file_extension": ".py",
   "mimetype": "text/x-python",
   "name": "python",
   "nbconvert_exporter": "python",
   "pygments_lexer": "ipython3",
   "version": "3.8.3"
  }
 },
 "nbformat": 4,
 "nbformat_minor": 4
}
